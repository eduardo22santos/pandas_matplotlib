{
 "cells": [
  {
   "cell_type": "markdown",
   "metadata": {},
   "source": [
    "# TRATANDO ARQUIVOS DO INMET PARA VERICAR A VELOCIDADE HORÁRIA DO VENTO EM ESTAÇÕES METEOROLÓGICAS"
   ]
  },
  {
   "cell_type": "markdown",
   "metadata": {},
   "source": [
    "## INSTANCIANDO OBJETOS"
   ]
  },
  {
   "cell_type": "code",
   "execution_count": 1,
   "metadata": {},
   "outputs": [],
   "source": [
    "from tkinter import filedialog\n",
    "from pandas import pandas as pd"
   ]
  },
  {
   "cell_type": "markdown",
   "metadata": {},
   "source": [
    "## SELECIONANDO ARQUIVOS NO SISTEMA"
   ]
  },
  {
   "cell_type": "code",
   "execution_count": 2,
   "metadata": {},
   "outputs": [],
   "source": [
    "fileNames = filedialog.askopenfilenames()"
   ]
  },
  {
   "cell_type": "markdown",
   "metadata": {},
   "source": [
    "## PREPARANDO A TABELA PARA ANÁLISE"
   ]
  },
  {
   "cell_type": "code",
   "execution_count": 3,
   "metadata": {},
   "outputs": [],
   "source": [
    "#Abre o arquivo de texto\n",
    "arquivo = open(fileNames[0], \"r\",encoding='latin-1')"
   ]
  },
  {
   "cell_type": "code",
   "execution_count": 4,
   "metadata": {},
   "outputs": [],
   "source": [
    "#VARIÁVEIS PARA ARMAZENAR OS DADOS DO ARQUIVO\n",
    "regiao = {}\n",
    "uf = {}\n",
    "estacao = {}\n",
    "codigo = {}\n",
    "latitude = {}\n",
    "longitude = {}\n",
    "altitude = {}\n",
    "fundacao = {}\n",
    "data = []\n",
    "horario = []\n",
    "velocidade = [] #velocidade horaria do vento\n",
    "#LAÇO PARA FAZER A LEITURA DO ARQUIVO\n",
    "n = 0 #variavel para indicar a posicao no arquivo, 0 <= n <= 8\n",
    "for i in arquivo:\n",
    "    linha = i.split(';')\n",
    "    if n < 9:\n",
    "        if n == 0:\n",
    "            n = n+1\n",
    "            l = linha[1].split('\\n')\n",
    "            regiao = {'regiao':l[0]}\n",
    "        elif n == 1:\n",
    "            n = n+1\n",
    "            l = linha[1].split('\\n')\n",
    "            uf = {'uf':l[0]}\n",
    "        elif n == 2:\n",
    "            n = n+1\n",
    "            l = linha[1].split('\\n')\n",
    "            estacao = {'estacao':l[0]}\n",
    "        elif n == 3:\n",
    "            n = n+1\n",
    "            l = linha[1].split('\\n')\n",
    "            codigo = {'codigo':l[0]}\n",
    "        elif n == 4:\n",
    "            n = n+1\n",
    "            l = linha[1].split('\\n')\n",
    "            latitude = {'latitude':l[0]}\n",
    "        elif n == 5:\n",
    "            n = n+1\n",
    "            l = linha[1].split('\\n')\n",
    "            longitude = {'longitude':l[0]}\n",
    "        elif n == 6:\n",
    "            n = n+1\n",
    "            l = linha[1].split('\\n')\n",
    "            altitude = {'altitude':l[0]}\n",
    "        elif n == 7:\n",
    "            n = n+1\n",
    "            l = linha[1].split('\\n')\n",
    "            fundacao = {'fundacao':l[0]}\n",
    "        elif n == 8:\n",
    "            n = n+1\n",
    "            continue\n",
    "    else:\n",
    "        data.append(linha[0])\n",
    "        horario.append(linha[1])\n",
    "        velocidade.append(linha[len(linha)-2])\n",
    "\n",
    "arquivo.close()"
   ]
  },
  {
   "cell_type": "markdown",
   "metadata": {},
   "source": [
    "## CRIANDO O DATAFRAME COM OS DADOS DO ARQUIVO\n"
   ]
  },
  {
   "cell_type": "code",
   "execution_count": 5,
   "metadata": {},
   "outputs": [],
   "source": [
    "# CRIANDO O DATAFRAME\n",
    "tabela = pd.DataFrame({'data':data,'horario':horario,'velocidade':velocidade})\n",
    "# TROCANDO A VIRGULA POR PONTO\n",
    "tabela['velocidade'] = tabela['velocidade'].apply(lambda x: str(x).replace(',','.'))\n",
    "# APAGANDO STRINGS VAZIAS\n",
    "tabela.drop(index=tabela.loc[tabela['velocidade']==''].index.tolist(),inplace=True)\n",
    "# CONVERTENDO AS COLUNAS PARA FLOAT64\n",
    "tabela['velocidade'] = tabela['velocidade'].astype('float64')"
   ]
  },
  {
   "cell_type": "markdown",
   "metadata": {},
   "source": [
    "## TRATANDO OS DADOS NA TABELA\n",
    "- EXCLUINDO LINHAS VAZIAS\n",
    "- EXCLUINDO LINHA COM VELOCIDADES INFERIORES A 0"
   ]
  },
  {
   "cell_type": "code",
   "execution_count": 6,
   "metadata": {},
   "outputs": [],
   "source": [
    "# APAGANDO LINHAS VAZIAS\n",
    "tabela.dropna(inplace=True)"
   ]
  },
  {
   "cell_type": "code",
   "execution_count": 7,
   "metadata": {},
   "outputs": [],
   "source": [
    "# APAGANDO LINHAS COM VELOCIDADES INFERIORES A 0\n",
    "tabela.drop(index=tabela.loc[tabela['velocidade']<0].index.tolist(),inplace=True)"
   ]
  },
  {
   "cell_type": "markdown",
   "metadata": {},
   "source": [
    "## SEPARANDO OS DADOS DE ACORCO COM A VELOCIDADE"
   ]
  },
  {
   "cell_type": "code",
   "execution_count": 12,
   "metadata": {},
   "outputs": [],
   "source": [
    "# SEPARANDO OS VALORES\n",
    "a0_2 = tabela['velocidade'].loc[(tabela['velocidade']>=0) & (tabela['velocidade']<2)]\n",
    "a2_3 = tabela['velocidade'].loc[(tabela['velocidade']>=2) & (tabela['velocidade']<3)]\n",
    "a3_4 = tabela['velocidade'].loc[(tabela['velocidade']>=3) & (tabela['velocidade']<4)]\n",
    "a4_5 = tabela['velocidade'].loc[(tabela['velocidade']>=4) & (tabela['velocidade']<5)]\n",
    "a5_6 = tabela['velocidade'].loc[(tabela['velocidade']>=5) & (tabela['velocidade']<6)]\n",
    "a6_7 = tabela['velocidade'].loc[(tabela['velocidade']>=6) & (tabela['velocidade']<7)]\n",
    "a7_8 = tabela['velocidade'].loc[(tabela['velocidade']>=7) & (tabela['velocidade']<8)]\n",
    "a8_9 = tabela['velocidade'].loc[(tabela['velocidade']>=8) & (tabela['velocidade']<9)]\n",
    "a9_10 = tabela['velocidade'].loc[(tabela['velocidade']>=9) & (tabela['velocidade']<10)]\n",
    "a10_11 = tabela['velocidade'].loc[(tabela['velocidade']>=10) & (tabela['velocidade']<11)]\n",
    "a11_20 = tabela['velocidade'].loc[(tabela['velocidade']>=11) & (tabela['velocidade']<20)]\n",
    "a20 = tabela['velocidade'].loc[tabela['velocidade']>=20]"
   ]
  },
  {
   "cell_type": "code",
   "execution_count": 13,
   "metadata": {},
   "outputs": [
    {
     "data": {
      "text/plain": [
       "Series([], Name: velocidade, dtype: float64)"
      ]
     },
     "execution_count": 13,
     "metadata": {},
     "output_type": "execute_result"
    }
   ],
   "source": [
    "a20"
   ]
  },
  {
   "cell_type": "code",
   "execution_count": 14,
   "metadata": {},
   "outputs": [],
   "source": [
    "# CALCULANDO AS PERCENTAGENS\n",
    "a2 = (int(len(a0_2))*100)/int(len(tabela))\n",
    "a3 = (int(len(a2_3))*100)/int(len(tabela))\n",
    "a4 = (int(len(a3_4))*100)/int(len(tabela))\n",
    "a_5 = (int(len(a4_5))*100)/int(len(tabela))\n",
    "a6 = (int(len(a5_6))*100)/int(len(tabela))\n",
    "a7 = (int(len(a6_7))*100)/int(len(tabela))\n",
    "a8 = (int(len(a7_8))*100)/int(len(tabela))\n",
    "a9 = (int(len(a8_9))*100)/int(len(tabela))\n",
    "a10 = (int(len(a9_10))*100)/int(len(tabela))\n",
    "a11 = (int(len(a10_11))*100)/int(len(tabela))\n",
    "a_20 = (int(len(a11_20))*100)/int(len(tabela))\n",
    "a_maior_20 = (int(len(a20))*100)/int(len(tabela))"
   ]
  },
  {
   "cell_type": "markdown",
   "metadata": {},
   "source": [
    "## PREPARANDO A TABELA COM OS DADOS DA ESTAÇÃO"
   ]
  },
  {
   "cell_type": "code",
   "execution_count": 15,
   "metadata": {},
   "outputs": [],
   "source": [
    "# CRIANDO O DATAFRIME QUE IRÁ ARMAZENAR AS INFOMAÇÕES DE CADA TABELA\n",
    "dados = []\n",
    "info = pd.DataFrame(data=dados,columns=['regiao', 'uf', 'estacao', 'codigo', 'latitude',\n",
    "       'longitude', 'altitude', 'fundacao', '[0,2)(%)', '[2,3)(%)', '[3,4)(%)',\n",
    "       '[4,5)(%)', '[5,6)(%)','[6,7)(%)','[7,8)(%)','[8,9)(%)','[9,10)(%)','[10,11)(%)','[11,20)(%)','[20,>)(%)'])\n",
    "# INSERINDO INFORMAÇÕES NO DATAFRIME\n",
    "entrada = [regiao['regiao'],uf['uf'],estacao['estacao'],codigo['codigo'],latitude['latitude'],longitude['longitude'],altitude['altitude'],fundacao['fundacao'],a2,a3,a4,a_5,a6,a7,a8,a9,a10,a11,a_20,a_maior_20]\n",
    "info.loc[len(info)] = entrada\n",
    "# TROCANDO A VIRGULA POR PONTO\n",
    "info['latitude'] = info['latitude'].apply(lambda x: str(x).replace(',','.'))\n",
    "info['longitude'] = info['longitude'].apply(lambda x: str(x).replace(',','.'))\n",
    "info['altitude'] = info['altitude'].apply(lambda x: str(x).replace(',','.'))\n",
    "# CONVERTENDO AS COLUNAS PARA FLOAT64\n",
    "info['latitude'] = info['latitude'].astype('float64')\n",
    "info['longitude'] = info['longitude'].astype('float64')\n",
    "info['altitude'] = info['altitude'].astype('float64')"
   ]
  },
  {
   "cell_type": "code",
   "execution_count": 16,
   "metadata": {},
   "outputs": [],
   "source": [
    "## salvando o csv com os dados da tabela\n",
    "local = estacao['estacao']\n",
    "code = codigo['codigo']\n",
    "info.to_csv(f'{local[0]}_{code[0]}.csv')"
   ]
  },
  {
   "cell_type": "markdown",
   "metadata": {},
   "source": [
    "# VERIFICANDO VARIOS ARQUIVOS DE ESTAÇÕES METEOROLÓGICAS EM SEQUÊNCIA"
   ]
  },
  {
   "cell_type": "markdown",
   "metadata": {},
   "source": []
  },
  {
   "cell_type": "code",
   "execution_count": 1,
   "metadata": {},
   "outputs": [],
   "source": [
    "from tkinter import filedialog\n",
    "from pandas import pandas as pd"
   ]
  },
  {
   "cell_type": "code",
   "execution_count": 17,
   "metadata": {},
   "outputs": [
    {
     "name": "stdout",
     "output_type": "stream",
     "text": [
      "/home/dudu/Dropbox/UFS/Energia na agricultura/estações/2010/INMET_SE_MG_A502_BARBACENA_01-01-2010_A_31-12-2010.CSV\n",
      "/home/dudu/Dropbox/UFS/Energia na agricultura/estações/2010/INMET_SE_MG_A505_ARAXA_01-01-2010_A_31-12-2010.CSV\n",
      "/home/dudu/Dropbox/UFS/Energia na agricultura/estações/2010/INMET_SE_MG_A506_MONTES CLAROS_01-01-2010_A_31-12-2010.CSV\n",
      "/home/dudu/Dropbox/UFS/Energia na agricultura/estações/2010/INMET_SE_MG_A507_UBERLANDIA_01-01-2010_A_31-12-2010.CSV\n",
      "/home/dudu/Dropbox/UFS/Energia na agricultura/estações/2010/INMET_SE_MG_A508_ALMENARA_01-01-2010_A_31-12-2010.CSV\n",
      "/home/dudu/Dropbox/UFS/Energia na agricultura/estações/2010/INMET_SE_MG_A509_MONTE VERDE_01-01-2010_A_31-12-2010.CSV\n",
      "/home/dudu/Dropbox/UFS/Energia na agricultura/estações/2010/INMET_SE_MG_A510_VICOSA_01-01-2010_A_31-12-2010.CSV\n",
      "/home/dudu/Dropbox/UFS/Energia na agricultura/estações/2010/INMET_SE_MG_A511_TIMOTEO_01-01-2010_A_31-12-2010.CSV\n",
      "/home/dudu/Dropbox/UFS/Energia na agricultura/estações/2010/INMET_SE_MG_A512_ITUIUTABA_01-01-2010_A_31-12-2010.CSV\n",
      "/home/dudu/Dropbox/UFS/Energia na agricultura/estações/2010/INMET_SE_MG_A513_OURO BRANCO_01-01-2010_A_31-12-2010.CSV\n",
      "/home/dudu/Dropbox/UFS/Energia na agricultura/estações/2010/INMET_SE_MG_A514_SAO JOAO DEL REI_01-01-2010_A_31-12-2010.CSV\n",
      "/home/dudu/Dropbox/UFS/Energia na agricultura/estações/2010/INMET_SE_MG_A515_VARGINHA_01-01-2010_A_31-12-2010.CSV\n",
      "/home/dudu/Dropbox/UFS/Energia na agricultura/estações/2010/INMET_SE_MG_A516_PASSOS_01-01-2010_A_31-12-2010.CSV\n",
      "/home/dudu/Dropbox/UFS/Energia na agricultura/estações/2010/INMET_SE_MG_A517_MURIAE_01-01-2010_A_31-12-2010.CSV\n",
      "/home/dudu/Dropbox/UFS/Energia na agricultura/estações/2010/INMET_SE_MG_A518_JUIZ DE FORA_01-01-2010_A_31-12-2010.CSV\n",
      "/home/dudu/Dropbox/UFS/Energia na agricultura/estações/2010/INMET_SE_MG_A519_CAMPINA VERDE_01-01-2010_A_31-12-2010.CSV\n",
      "/home/dudu/Dropbox/UFS/Energia na agricultura/estações/2010/INMET_SE_MG_A520_CONCEICAO DAS ALAGOAS_01-01-2010_A_31-12-2010.CSV\n",
      "/home/dudu/Dropbox/UFS/Energia na agricultura/estações/2010/INMET_SE_MG_A521_PAMPULHA_01-01-2010_A_31-12-2010.CSV\n",
      "/home/dudu/Dropbox/UFS/Energia na agricultura/estações/2010/INMET_SE_MG_A522_SERRA DOS AIMORES_01-01-2010_A_31-12-2010.CSV\n",
      "/home/dudu/Dropbox/UFS/Energia na agricultura/estações/2010/INMET_SE_MG_A523_PATROCINIO_01-01-2010_A_31-12-2010.CSV\n",
      "/home/dudu/Dropbox/UFS/Energia na agricultura/estações/2010/INMET_SE_MG_A524_FORMIGA_01-01-2010_A_31-12-2010.CSV\n",
      "/home/dudu/Dropbox/UFS/Energia na agricultura/estações/2010/INMET_SE_MG_A525_SACRAMENTO_01-01-2010_A_31-12-2010.CSV\n",
      "/home/dudu/Dropbox/UFS/Energia na agricultura/estações/2010/INMET_SE_MG_A526_MONTALVANIA_01-01-2010_A_31-12-2010.CSV\n",
      "/home/dudu/Dropbox/UFS/Energia na agricultura/estações/2010/INMET_SE_MG_A527_TEOFILO OTONI_01-01-2010_A_31-12-2010.CSV\n",
      "/home/dudu/Dropbox/UFS/Energia na agricultura/estações/2010/INMET_SE_MG_A528_TRES MARIAS_01-01-2010_A_31-12-2010.CSV\n",
      "/home/dudu/Dropbox/UFS/Energia na agricultura/estações/2010/INMET_SE_MG_A529_PASSA QUATRO_01-01-2010_A_31-12-2010.CSV\n",
      "/home/dudu/Dropbox/UFS/Energia na agricultura/estações/2010/INMET_SE_MG_A530_CALDAS_01-01-2010_A_31-12-2010.CSV\n",
      "/home/dudu/Dropbox/UFS/Energia na agricultura/estações/2010/INMET_SE_MG_A531_MARIA DA FE_01-01-2010_A_31-12-2010.CSV\n",
      "/home/dudu/Dropbox/UFS/Energia na agricultura/estações/2010/INMET_SE_MG_A532_GOVERNADOR VALADARES_01-01-2010_A_31-12-2010.CSV\n",
      "/home/dudu/Dropbox/UFS/Energia na agricultura/estações/2010/INMET_SE_MG_A533_GUANHAES_01-01-2010_A_31-12-2010.CSV\n",
      "/home/dudu/Dropbox/UFS/Energia na agricultura/estações/2010/INMET_SE_MG_A534_AIMORES_01-01-2010_A_31-12-2010.CSV\n",
      "/home/dudu/Dropbox/UFS/Energia na agricultura/estações/2010/INMET_SE_MG_A535_FLORESTAL_01-01-2010_A_31-12-2010.CSV\n",
      "/home/dudu/Dropbox/UFS/Energia na agricultura/estações/2010/INMET_SE_MG_A536_DORES DO INDAIA_01-01-2010_A_31-12-2010.CSV\n",
      "/home/dudu/Dropbox/UFS/Energia na agricultura/estações/2010/INMET_SE_MG_A537_DIAMANTINA_01-01-2010_A_31-12-2010.CSV\n",
      "/home/dudu/Dropbox/UFS/Energia na agricultura/estações/2010/INMET_SE_MG_A538_CURVELO_01-01-2010_A_31-12-2010.CSV\n",
      "/home/dudu/Dropbox/UFS/Energia na agricultura/estações/2010/INMET_SE_MG_A539_MOCAMBINHO_01-01-2010_A_31-12-2010.CSV\n",
      "/home/dudu/Dropbox/UFS/Energia na agricultura/estações/2010/INMET_SE_MG_A540_MANTENA_01-01-2010_A_31-12-2010.CSV\n",
      "/home/dudu/Dropbox/UFS/Energia na agricultura/estações/2010/INMET_SE_MG_A541_CAPELINHA_01-01-2010_A_31-12-2010.CSV\n",
      "/home/dudu/Dropbox/UFS/Energia na agricultura/estações/2010/INMET_SE_MG_A542_UNAI_01-01-2010_A_31-12-2010.CSV\n",
      "/home/dudu/Dropbox/UFS/Energia na agricultura/estações/2010/INMET_SE_MG_A543_ESPINOSA_01-01-2010_A_31-12-2010.CSV\n",
      "/home/dudu/Dropbox/UFS/Energia na agricultura/estações/2010/INMET_SE_MG_A544_BURITIS_01-01-2010_A_31-12-2010.CSV\n",
      "/home/dudu/Dropbox/UFS/Energia na agricultura/estações/2010/INMET_SE_MG_A545_PIRAPORA_01-01-2010_A_31-12-2010.CSV\n",
      "/home/dudu/Dropbox/UFS/Energia na agricultura/estações/2010/INMET_SE_MG_A546_GUARDA-MOR_01-01-2010_A_31-12-2010.CSV\n",
      "/home/dudu/Dropbox/UFS/Energia na agricultura/estações/2010/INMET_SE_MG_A547_SAO ROMAO_01-01-2010_A_31-12-2010.CSV\n",
      "/home/dudu/Dropbox/UFS/Energia na agricultura/estações/2010/INMET_SE_MG_A548_CHAPADA GAUCHA_01-01-2010_A_31-12-2010.CSV\n",
      "/home/dudu/Dropbox/UFS/Energia na agricultura/estações/2010/INMET_SE_MG_A549_AGUAS VERMELHAS_01-01-2010_A_31-12-2010.CSV\n",
      "/home/dudu/Dropbox/UFS/Energia na agricultura/estações/2010/INMET_SE_MG_A550_ITAOBIM_01-01-2010_A_31-12-2010.CSV\n",
      "/home/dudu/Dropbox/UFS/Energia na agricultura/estações/2010/INMET_SE_MG_A551_RIO PARDO DE MINAS_01-01-2010_A_31-12-2010.CSV\n",
      "/home/dudu/Dropbox/UFS/Energia na agricultura/estações/2010/INMET_SE_MG_A552_SALINAS_01-01-2010_A_31-12-2010.CSV\n",
      "/home/dudu/Dropbox/UFS/Energia na agricultura/estações/2010/INMET_SE_MG_A553_JOAO PINHEIRO_01-01-2010_A_31-12-2010.CSV\n",
      "/home/dudu/Dropbox/UFS/Energia na agricultura/estações/2010/INMET_SE_MG_A554_CARATINGA_01-01-2010_A_31-12-2010.CSV\n",
      "/home/dudu/Dropbox/UFS/Energia na agricultura/estações/2010/INMET_SE_MG_A555_IBIRITE (ROLA MOCA)_01-01-2010_A_31-12-2010.CSV\n",
      "/home/dudu/Dropbox/UFS/Energia na agricultura/estações/2010/INMET_SE_MG_A556_MANHUACU_25-09-2010_A_31-12-2010.CSV\n"
     ]
    }
   ],
   "source": [
    "# DEFINE O NOME DA TABELA\n",
    "nomeArquivo = '2019'\n",
    "\n",
    "# FUNÇÃO DE ANÁLISE\n",
    "def analisar(fileName):\n",
    "    #Abre o arquivo de texto\n",
    "    arquivo = open(fileName, \"r\",encoding='latin-1')\n",
    "    #VARIÁVEIS PARA ARMAZENAR OS DADOS DO ARQUIVO\n",
    "    regiao = {}\n",
    "    uf = {}\n",
    "    estacao = {}\n",
    "    codigo = {}\n",
    "    latitude = {}\n",
    "    longitude = {}\n",
    "    altitude = {}\n",
    "    fundacao = {}\n",
    "    data = []\n",
    "    horario = []\n",
    "    velocidade = [] #velocidade horaria do vento\n",
    "    #LAÇO PARA FAZER A LEITURA DO ARQUIVO\n",
    "    n = 0 #variavel para indicar a posicao no arquivo, 0 <= n <= 8\n",
    "    for i in arquivo:\n",
    "        linha = i.split(';')\n",
    "        if n < 9:\n",
    "            if n == 0:\n",
    "                n = n+1\n",
    "                l = linha[1].split('\\n')\n",
    "                regiao = {'regiao':l[0]}\n",
    "            elif n == 1:\n",
    "                n = n+1\n",
    "                l = linha[1].split('\\n')\n",
    "                uf = {'uf':l[0]}\n",
    "            elif n == 2:\n",
    "                n = n+1\n",
    "                l = linha[1].split('\\n')\n",
    "                estacao = {'estacao':l[0]}\n",
    "            elif n == 3:\n",
    "                n = n+1\n",
    "                l = linha[1].split('\\n')\n",
    "                codigo = {'codigo':l[0]}\n",
    "            elif n == 4:\n",
    "                n = n+1\n",
    "                l = linha[1].split('\\n')\n",
    "                latitude = {'latitude':l[0]}\n",
    "            elif n == 5:\n",
    "                n = n+1\n",
    "                l = linha[1].split('\\n')\n",
    "                longitude = {'longitude':l[0]}\n",
    "            elif n == 6:\n",
    "                n = n+1\n",
    "                l = linha[1].split('\\n')\n",
    "                altitude = {'altitude':l[0]}\n",
    "            elif n == 7:\n",
    "                n = n+1\n",
    "                l = linha[1].split('\\n')\n",
    "                fundacao = {'fundacao':l[0]}\n",
    "            elif n == 8:\n",
    "                n = n+1\n",
    "                continue\n",
    "        else:\n",
    "            data.append(linha[0])\n",
    "            horario.append(linha[1])\n",
    "            velocidade.append(linha[len(linha)-2])\n",
    "\n",
    "    arquivo.close()\n",
    "\n",
    "    # CRIANDO O DATAFRAME\n",
    "    tabela = pd.DataFrame({'data':data,'horario':horario,'velocidade':velocidade})\n",
    "    # TROCANDO A VIRGULA POR PONTO\n",
    "    tabela['velocidade'] = tabela['velocidade'].apply(lambda x: str(x).replace(',','.'))\n",
    "    # APAGANDO STRINGS VAZIAS\n",
    "    tabela.drop(index=tabela.loc[tabela['velocidade']==''].index.tolist(),inplace=True)\n",
    "    # CONVERTENDO AS COLUNAS PARA FLOAT64\n",
    "    tabela['velocidade'] = tabela['velocidade'].astype('float64')\n",
    "    # APAGANDO LINHAS VAZIAS\n",
    "    tabela.dropna(inplace=True)\n",
    "    # APAGANDO LINHAS COM VELOCIDADES INFERIORES A 0\n",
    "    tabela.drop(index=tabela.loc[tabela['velocidade']<0].index.tolist(),inplace=True)\n",
    "\n",
    "    # SEPARANDO OS VALORES\n",
    "    a0_2 = tabela['velocidade'].loc[(tabela['velocidade']>=0) & (tabela['velocidade']<2)]\n",
    "    a2_3 = tabela['velocidade'].loc[(tabela['velocidade']>=2) & (tabela['velocidade']<3)]\n",
    "    a3_4 = tabela['velocidade'].loc[(tabela['velocidade']>=3) & (tabela['velocidade']<4)]\n",
    "    a4_5 = tabela['velocidade'].loc[(tabela['velocidade']>=4) & (tabela['velocidade']<5)]\n",
    "    a5_6 = tabela['velocidade'].loc[(tabela['velocidade']>=5) & (tabela['velocidade']<6)]\n",
    "    a6_7 = tabela['velocidade'].loc[(tabela['velocidade']>=6) & (tabela['velocidade']<7)]\n",
    "    a7_8 = tabela['velocidade'].loc[(tabela['velocidade']>=7) & (tabela['velocidade']<8)]\n",
    "    a8_9 = tabela['velocidade'].loc[(tabela['velocidade']>=8) & (tabela['velocidade']<9)]\n",
    "    a9_10 = tabela['velocidade'].loc[(tabela['velocidade']>=9) & (tabela['velocidade']<10)]\n",
    "    a10_11 = tabela['velocidade'].loc[(tabela['velocidade']>=10) & (tabela['velocidade']<11)]\n",
    "    a11_20 = tabela['velocidade'].loc[(tabela['velocidade']>=11) & (tabela['velocidade']<20)]\n",
    "    a20 = tabela['velocidade'].loc[tabela['velocidade']>=20]\n",
    "\n",
    "    # CALCULANDO AS PERCENTAGENS\n",
    "    a2 = (int(len(a0_2))*100)/int(len(tabela))\n",
    "    a3 = (int(len(a2_3))*100)/int(len(tabela))\n",
    "    a4 = (int(len(a3_4))*100)/int(len(tabela))\n",
    "    a_5 = (int(len(a4_5))*100)/int(len(tabela))\n",
    "    a6 = (int(len(a5_6))*100)/int(len(tabela))\n",
    "    a7 = (int(len(a6_7))*100)/int(len(tabela))\n",
    "    a8 = (int(len(a7_8))*100)/int(len(tabela))\n",
    "    a9 = (int(len(a8_9))*100)/int(len(tabela))\n",
    "    a10 = (int(len(a9_10))*100)/int(len(tabela))\n",
    "    a11 = (int(len(a10_11))*100)/int(len(tabela))\n",
    "    a_20 = (int(len(a11_20))*100)/int(len(tabela))\n",
    "    a_maior_20 = (int(len(a20))*100)/int(len(tabela))\n",
    "\n",
    "    # RETORNADO LISTA PARA INSERIR AS INFOMAÇÕES NO DATAFRAME\n",
    "    return [regiao['regiao'],uf['uf'],estacao['estacao'],codigo['codigo'],latitude['latitude'],longitude['longitude'],altitude['altitude'],fundacao['fundacao'],a2,a3,a4,a_5,a6,a7,a8,a9,a10,a11,a_20,a_maior_20]\n",
    "\n",
    "\n",
    "# ABRINDO A JANELA DE SELEÇÃO\n",
    "fileNames = filedialog.askopenfilenames()\n",
    "\n",
    "# CRIANDO O DATAFRIME QUE IRÁ ARMAZENAR AS INFOMAÇÕES DE CADA TABELA\n",
    "dados = []\n",
    "info = pd.DataFrame(data=dados,columns=['regiao', 'uf', 'estacao', 'codigo', 'latitude',\n",
    "       'longitude', 'altitude', 'fundacao', '[0,2)(%)', '[2,3)(%)', '[3,4)(%)',\n",
    "       '[4,5)(%)', '[5,6)(%)','[6,7)(%)','[7,8)(%)','[8,9)(%)','[9,10)(%)','[10,11)(%)','[11,20)(%)','[20,>)(%)'])\n",
    "\n",
    "# ANALISANDO CADA ARQUIVO DA VARIÁVEL FILENAMES\n",
    "for i in fileNames:\n",
    "    print(i)\n",
    "    info.loc[len(info)] = analisar(i)\n",
    "\n",
    "    \n",
    "# TROCANDO A VIRGULA POR PONTO\n",
    "info['latitude'] = info['latitude'].apply(lambda x: str(x).replace(',','.'))\n",
    "info['longitude'] = info['longitude'].apply(lambda x: str(x).replace(',','.'))\n",
    "info['altitude'] = info['altitude'].apply(lambda x: str(x).replace(',','.'))\n",
    "# CONVERTENDO AS COLUNAS PARA FLOAT64\n",
    "info['latitude'] = info['latitude'].astype('float64')\n",
    "info['longitude'] = info['longitude'].astype('float64')\n",
    "info['altitude'] = info['altitude'].astype('float64')\n",
    "\n",
    "# SALVA O DATAFRIME INFO EM FORMATO CSV\n",
    "info.to_csv(f'{nomeArquivo}.csv')"
   ]
  }
 ],
 "metadata": {
  "interpreter": {
   "hash": "5fc34832d9e9dbb4a0791617efa348be34d3ed7a85e92dcb1d85b8f874b267cb"
  },
  "kernelspec": {
   "display_name": "Python 3.8.12 64-bit ('base': conda)",
   "language": "python",
   "name": "python3"
  },
  "language_info": {
   "codemirror_mode": {
    "name": "ipython",
    "version": 3
   },
   "file_extension": ".py",
   "mimetype": "text/x-python",
   "name": "python",
   "nbconvert_exporter": "python",
   "pygments_lexer": "ipython3",
   "version": "3.8.12"
  },
  "orig_nbformat": 4
 },
 "nbformat": 4,
 "nbformat_minor": 2
}
