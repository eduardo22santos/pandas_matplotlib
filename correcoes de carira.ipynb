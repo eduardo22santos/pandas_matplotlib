{
 "cells": [
  {
   "cell_type": "code",
   "execution_count": 10,
   "metadata": {},
   "outputs": [],
   "source": [
    "import pandas as pd\n",
    "import math\n",
    "\n",
    "#funções de correção\n",
    "def orvalho(umidade, temperatura):\n",
    "    return (243.04 * (math.log(umidade / 100) + ((17.625 * temperatura) / (243.04 + temperatura)))) /\\\n",
    "           (17.625 - math.log(umidade / 100) - ((17.625 * temperatura) / (243.04 + temperatura)))\n",
    "\n",
    "def itgu(temperaturaDeGlobo, pontoDeOrvalho):\n",
    "    return temperaturaDeGlobo + (0.36 * pontoDeOrvalho) + 41.5\n",
    "\n",
    "def ituBovino(umidadeRelativa, temperaturaDeBulboSeco):\n",
    "    return ((1.8*temperaturaDeBulboSeco) + 32) - ((0.55 - (0.55*(umidadeRelativa/100)))*(((1.8 * temperaturaDeBulboSeco) + 32) - 58))\n",
    "\n",
    "def corrige(umidade):\n",
    "    if umidade > 100:\n",
    "        return 100\n",
    "    else:\n",
    "        return umidade\n",
    "\n",
    "def corrigirTabela(esterno1):\n",
    "    esterno1['umidade'] = esterno1['umidade'].apply(lambda esterno1: corrige(esterno1))\n",
    "    esterno1['orvalho'] = esterno1.apply(lambda x: orvalho(x['umidade'], x['tbs']), axis=1)\n",
    "    esterno1['itu'] = esterno1.apply(lambda x: ituBovino(x['umidade'],x['tbs']), axis=1)\n",
    "    esterno1['itgu'] = esterno1.apply(lambda x: itgu(x['tg'], x['orvalho']), axis=1)\n",
    "    esterno1['itgup'] = esterno1.apply(lambda x: itgu(x['tgp'], x['orvalho']), axis=1)\n",
    "    return esterno1\n",
    "def corrigirTabela2(compost):\n",
    "    compost['umidadeCB'] = compost['umidadeCB'].apply(lambda esterno1: corrige(esterno1))\n",
    "    compost['orvalhoCB'] = compost.apply(lambda x: orvalho(x['umidadeCB'], x['tbsCB']), axis=1)\n",
    "    compost['ituCB'] = compost.apply(lambda x: ituBovino(x['umidadeCB'],x['tbsCB']), axis=1)\n",
    "    compost['itguCB'] = compost.apply(lambda x: itgu(x['tgCB'], x['orvalhoCB']), axis=1)\n",
    "    return compost"
   ]
  },
  {
   "cell_type": "markdown",
   "metadata": {},
   "source": [
    "## PLANILHAS Area Externa"
   ]
  },
  {
   "cell_type": "code",
   "execution_count": 7,
   "metadata": {},
   "outputs": [],
   "source": [
    "arquivoDeEntrada = 'teste_carira/SegundaSemana_AreaExterna_18a24do04_2021.xlsx'\n",
    "arquivoDeSaida = 'teste_carira/corrigido/SegundaSemana_AreaExterna_18a24do04_2021.xlsx'\n",
    "\n",
    "esterno1 = pd.read_excel(arquivoDeEntrada, sheet_name=None)\n",
    "planilhas = esterno1.keys()\n",
    "\n",
    "salvarSheet = pd.ExcelWriter(arquivoDeSaida , engine='xlsxwriter')\n",
    "\n",
    "#esterno1['Média da segunda semana'].columns = esterno1['18'].columns #lembre de mudar o índice\n",
    "\n",
    "for i in planilhas:\n",
    "    if i == 'Média da segunda semana':\n",
    "        break\n",
    "    corrigirTabela(esterno1[i]).to_excel(salvarSheet, sheet_name=i)\n",
    "salvarSheet.save()\n",
    "\n"
   ]
  },
  {
   "cell_type": "markdown",
   "metadata": {},
   "source": [
    "## PLANILHA COMPOSTbARN"
   ]
  },
  {
   "cell_type": "code",
   "execution_count": 13,
   "metadata": {},
   "outputs": [],
   "source": [
    "arquivoDeEntrada = 'teste_carira/SegundaSemana_CompostBarn_18a24do04_2021.xlsx'\n",
    "arquivoDeSaida = 'teste_carira/corrigido/SegundaSemana_CompostBarn_18a24do04_2021.xlsx'\n",
    "\n",
    "compost = pd.read_excel(arquivoDeEntrada, sheet_name=None)\n",
    "planilhas = compost.keys()\n",
    "\n",
    "salvarSheet = pd.ExcelWriter(arquivoDeSaida , engine='xlsxwriter')\n",
    "\n",
    "for i in planilhas:\n",
    "    if i == 'MediaSegundaSemana':\n",
    "        break\n",
    "    corrigirTabela2(compost[i]).to_excel(salvarSheet, sheet_name=i)\n",
    "salvarSheet.save()\n",
    "\n"
   ]
  },
  {
   "cell_type": "code",
   "execution_count": null,
   "metadata": {},
   "outputs": [],
   "source": []
  }
 ],
 "metadata": {
  "kernelspec": {
   "display_name": "Python 3",
   "language": "python",
   "name": "python3"
  },
  "language_info": {
   "codemirror_mode": {
    "name": "ipython",
    "version": 3
   },
   "file_extension": ".py",
   "mimetype": "text/x-python",
   "name": "python",
   "nbconvert_exporter": "python",
   "pygments_lexer": "ipython3",
   "version": "3.8.5"
  }
 },
 "nbformat": 4,
 "nbformat_minor": 4
}
