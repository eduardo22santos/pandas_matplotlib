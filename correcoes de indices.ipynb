{
 "cells": [
  {
   "cell_type": "code",
   "execution_count": 2,
   "metadata": {},
   "outputs": [],
   "source": [
    "import math\n",
    "import csv\n",
    "\n",
    "#Cabeçalho do CSV\n",
    "cabecalho = [\"data\", \"horario\", \"tbs\", \"umidade\", \"globo metalico\", \"globo plastico\", \"itgu metalico\", \"itgu plastico\", \"itu\", \"orvalho\"]\n",
    "\n",
    "#funções de correção\n",
    "def orvalho(umidade, temperatura):\n",
    "    return (243.04 * (math.log(umidade / 100) + ((17.625 * temperatura) / (243.04 + temperatura)))) /\\\n",
    "           (17.625 - math.log(umidade / 100) - ((17.625 * temperatura) / (243.04 + temperatura)))\n",
    "\n",
    "def itgu(temperaturaDeGlobo, pontoDeOrvalho):\n",
    "    return temperaturaDeGlobo + (0.36 * pontoDeOrvalho) + 41.5\n",
    "\n",
    "# 1. cria o arquivo\n",
    "arquivo = open('2_globos_csv.csv', 'w', newline='', encoding='utf-8')\n",
    "\n",
    "# 2. cria o objeto de gravação\n",
    "w = csv.writer(arquivo)\n",
    "\n",
    "# 3. grava o cabeçalho\n",
    "w.writerow(cabecalho)\n",
    "\n",
    "#Abre o arquivo de texto\n",
    "arquivo = open(\"dois_globos_datalog.txt\", \"r\")\n",
    "for linha in arquivo:\n",
    "    # time umidade tg tgp tbs itu itgu itgup orvalho \n",
    "    x = linha.split(\" \")\n",
    "    time = x[0].split(\"T\")\n",
    "    temperatura = float(x[4])\n",
    "    umidade = float(x[1])\n",
    "    globoMetalico = float(x[2])\n",
    "    globoPlastico = float(x[3])\n",
    "    pontoOrvalho = orvalho(umidade, temperatura)\n",
    "    itguMetalico = itgu(globoMetalico, pontoOrvalho)\n",
    "    itguPlastico = itgu(globoPlastico, pontoOrvalho)\n",
    "    itu = float(x[5])\n",
    "    # [\"data\", \"horario\", \"tbs\", \"umidade\", \"globo metalico\", \"globo plastico\", \"itgu metalico\", \"itgu plastico\", \"itu\", \"orvalho\"]\n",
    "    w.writerow([time[0], time[1], temperatura, umidade, globoMetalico, globoPlastico, itguMetalico, itguPlastico, itu, pontoOrvalho])\n",
    "\n",
    "arquivo.close()"
   ]
  }
 ],
 "metadata": {
  "kernelspec": {
   "display_name": "Python 3",
   "language": "python",
   "name": "python3"
  },
  "language_info": {
   "codemirror_mode": {
    "name": "ipython",
    "version": 3
   },
   "file_extension": ".py",
   "mimetype": "text/x-python",
   "name": "python",
   "nbconvert_exporter": "python",
   "pygments_lexer": "ipython3",
   "version": "3.8.5"
  }
 },
 "nbformat": 4,
 "nbformat_minor": 4
}
