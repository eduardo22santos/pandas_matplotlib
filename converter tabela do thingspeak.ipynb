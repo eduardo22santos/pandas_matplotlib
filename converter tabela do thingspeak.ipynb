{
 "cells": [
  {
   "cell_type": "code",
   "execution_count": 2,
   "metadata": {},
   "outputs": [],
   "source": [
    "from tkinter import filedialog\n",
    "from pandas import pandas as pd"
   ]
  },
  {
   "cell_type": "code",
   "execution_count": 3,
   "metadata": {},
   "outputs": [],
   "source": [
    "fileNames = filedialog.askopenfilenames()\n"
   ]
  },
  {
   "cell_type": "code",
   "execution_count": 4,
   "metadata": {},
   "outputs": [
    {
     "data": {
      "text/plain": [
       "('/home/dudu/Dropbox/Pibit/projeto 04/dados de campo/2_4_22/compostBarns.csv',\n",
       " '/home/dudu/Dropbox/Pibit/projeto 04/dados de campo/2_4_22/pasto.csv')"
      ]
     },
     "execution_count": 4,
     "metadata": {},
     "output_type": "execute_result"
    }
   ],
   "source": [
    "fileNames"
   ]
  },
  {
   "cell_type": "code",
   "execution_count": 6,
   "metadata": {},
   "outputs": [
    {
     "name": "stdout",
     "output_type": "stream",
     "text": [
      "compostBarns\n",
      "pasto\n"
     ]
    }
   ],
   "source": [
    "for i in fileNames:\n",
    "    name = i.split('/')\n",
    "    name = name[len(name)- 1].split('.')\n",
    "    print(name[0])"
   ]
  },
  {
   "cell_type": "code",
   "execution_count": 2,
   "metadata": {},
   "outputs": [],
   "source": [
    "compostBarns = pd.read_csv('/home/dudu/Dropbox/Pibit/projeto 04/dados de campo/2_4_22/compostBarns.csv')"
   ]
  },
  {
   "cell_type": "code",
   "execution_count": 16,
   "metadata": {},
   "outputs": [],
   "source": [
    "tabela = compostBarns[['created_at', 'field1', 'field2', 'field3', 'field4',\n",
    "       'field5', 'field6', 'field7', 'field8']]"
   ]
  },
  {
   "cell_type": "code",
   "execution_count": 17,
   "metadata": {},
   "outputs": [
    {
     "name": "stderr",
     "output_type": "stream",
     "text": [
      "/home/dudu/anaconda3/lib/python3.8/site-packages/pandas/core/frame.py:3641: SettingWithCopyWarning: \n",
      "A value is trying to be set on a copy of a slice from a DataFrame.\n",
      "Try using .loc[row_indexer,col_indexer] = value instead\n",
      "\n",
      "See the caveats in the documentation: https://pandas.pydata.org/pandas-docs/stable/user_guide/indexing.html#returning-a-view-versus-a-copy\n",
      "  self[k1] = value[k2]\n"
     ]
    }
   ],
   "source": [
    "tabela[['data','horario']] = tabela['created_at'].str.split('T', expand=True)"
   ]
  },
  {
   "cell_type": "code",
   "execution_count": 20,
   "metadata": {},
   "outputs": [
    {
     "name": "stderr",
     "output_type": "stream",
     "text": [
      "/home/dudu/anaconda3/lib/python3.8/site-packages/pandas/core/frame.py:3641: SettingWithCopyWarning: \n",
      "A value is trying to be set on a copy of a slice from a DataFrame.\n",
      "Try using .loc[row_indexer,col_indexer] = value instead\n",
      "\n",
      "See the caveats in the documentation: https://pandas.pydata.org/pandas-docs/stable/user_guide/indexing.html#returning-a-view-versus-a-copy\n",
      "  self[k1] = value[k2]\n"
     ]
    }
   ],
   "source": [
    "tabela[['horario2','horario3']] = tabela['horario'].str.split('-', expand=True)"
   ]
  },
  {
   "cell_type": "code",
   "execution_count": 29,
   "metadata": {},
   "outputs": [
    {
     "name": "stderr",
     "output_type": "stream",
     "text": [
      "/home/dudu/anaconda3/lib/python3.8/site-packages/pandas/core/frame.py:4906: SettingWithCopyWarning: \n",
      "A value is trying to be set on a copy of a slice from a DataFrame\n",
      "\n",
      "See the caveats in the documentation: https://pandas.pydata.org/pandas-docs/stable/user_guide/indexing.html#returning-a-view-versus-a-copy\n",
      "  return super().drop(\n"
     ]
    }
   ],
   "source": [
    "tabela.drop(columns=['created_at','horario','horario3'],inplace=True)"
   ]
  },
  {
   "cell_type": "code",
   "execution_count": 30,
   "metadata": {},
   "outputs": [],
   "source": [
    "tabela.columns = ['tbs','tbu','tgn','hPa','umidade','itu','itgu','t_interna','data','horario']"
   ]
  },
  {
   "cell_type": "code",
   "execution_count": 32,
   "metadata": {},
   "outputs": [],
   "source": [
    "tabelaF = tabela[['data','horario','tbs','tbu','tgn','hPa','umidade','itu','itgu','t_interna']]"
   ]
  },
  {
   "cell_type": "code",
   "execution_count": 34,
   "metadata": {},
   "outputs": [],
   "source": [
    "import math\n",
    "#funções de correção\n",
    "def orvalho(umidade, temperatura):\n",
    "    return (243.04 * (math.log(umidade / 100) + ((17.625 * temperatura) / (243.04 + temperatura)))) /\\\n",
    "           (17.625 - math.log(umidade / 100) - ((17.625 * temperatura) / (243.04 + temperatura)))"
   ]
  },
  {
   "cell_type": "code",
   "execution_count": 35,
   "metadata": {},
   "outputs": [
    {
     "name": "stderr",
     "output_type": "stream",
     "text": [
      "/tmp/ipykernel_18632/2016688330.py:1: SettingWithCopyWarning: \n",
      "A value is trying to be set on a copy of a slice from a DataFrame.\n",
      "Try using .loc[row_indexer,col_indexer] = value instead\n",
      "\n",
      "See the caveats in the documentation: https://pandas.pydata.org/pandas-docs/stable/user_guide/indexing.html#returning-a-view-versus-a-copy\n",
      "  tabelaF['orvalho'] = tabelaF.apply(lambda x: orvalho(x['umidade'],x['tbs']), axis=1)\n"
     ]
    }
   ],
   "source": [
    "tabelaF['orvalho'] = tabelaF.apply(lambda x: orvalho(x['umidade'],x['tbs']), axis=1)"
   ]
  },
  {
   "cell_type": "code",
   "execution_count": 37,
   "metadata": {},
   "outputs": [],
   "source": [
    "tabelaF.to_csv('compostBarn_corrigida.csv')"
   ]
  },
  {
   "cell_type": "code",
   "execution_count": 7,
   "metadata": {},
   "outputs": [
    {
     "name": "stderr",
     "output_type": "stream",
     "text": [
      "/home/dudu/anaconda3/lib/python3.8/site-packages/pandas/core/frame.py:3641: SettingWithCopyWarning: \n",
      "A value is trying to be set on a copy of a slice from a DataFrame.\n",
      "Try using .loc[row_indexer,col_indexer] = value instead\n",
      "\n",
      "See the caveats in the documentation: https://pandas.pydata.org/pandas-docs/stable/user_guide/indexing.html#returning-a-view-versus-a-copy\n",
      "  self[k1] = value[k2]\n",
      "/home/dudu/anaconda3/lib/python3.8/site-packages/pandas/core/frame.py:4906: SettingWithCopyWarning: \n",
      "A value is trying to be set on a copy of a slice from a DataFrame\n",
      "\n",
      "See the caveats in the documentation: https://pandas.pydata.org/pandas-docs/stable/user_guide/indexing.html#returning-a-view-versus-a-copy\n",
      "  return super().drop(\n",
      "/tmp/ipykernel_21514/2975909841.py:26: SettingWithCopyWarning: \n",
      "A value is trying to be set on a copy of a slice from a DataFrame.\n",
      "Try using .loc[row_indexer,col_indexer] = value instead\n",
      "\n",
      "See the caveats in the documentation: https://pandas.pydata.org/pandas-docs/stable/user_guide/indexing.html#returning-a-view-versus-a-copy\n",
      "  tabelaF['orvalho'] = tabelaF.apply(lambda x: orvalho(x['umidade'],x['tbs']), axis=1)\n"
     ]
    },
    {
     "name": "stdout",
     "output_type": "stream",
     "text": [
      "compostBarns\n",
      "pasto\n"
     ]
    }
   ],
   "source": [
    "from tkinter import filedialog\n",
    "from pandas import pandas as pd\n",
    "\n",
    "\n",
    "fileNames = filedialog.askopenfilenames()\n",
    "\n",
    "salvarSheet = pd.ExcelWriter('planilha.xlsx' , engine='xlsxwriter')\n",
    "\n",
    "import math\n",
    "#funções de correção\n",
    "def orvalho(umidade, temperatura):\n",
    "    return (243.04 * (math.log(umidade / 100) + ((17.625 * temperatura) / (243.04 + temperatura)))) /\\\n",
    "           (17.625 - math.log(umidade / 100) - ((17.625 * temperatura) / (243.04 + temperatura)))\n",
    "\n",
    "for i in fileNames:\n",
    "    data = pd.read_csv(i)\n",
    "\n",
    "    tabela = data[['created_at', 'field1', 'field2', 'field3', 'field4',\n",
    "       'field5', 'field6', 'field7', 'field8']]\n",
    "\n",
    "    tabela[['data','horario']] = tabela['created_at'].str.split('T', expand=True)\n",
    "    tabela[['horario2','horario3']] = tabela['horario'].str.split('-', expand=True)\n",
    "    tabela.drop(columns=['created_at','horario','horario3'],inplace=True)\n",
    "    tabela.columns = ['tbs','tbu','tgn','hPa','umidade','itu','itgu','t_interna','data','horario']\n",
    "    tabelaF = tabela[['data','horario','tbs','tbu','tgn','hPa','umidade','itu','itgu','t_interna']]\n",
    "    tabelaF['orvalho'] = tabelaF.apply(lambda x: orvalho(x['umidade'],x['tbs']), axis=1)\n",
    "    name = i.split('/')\n",
    "    name = name[len(name)- 1].split('.')\n",
    "    print(name[0])\n",
    "\n",
    "    tabelaF.to_excel(salvarSheet, sheet_name=name[0])\n",
    "\n",
    "salvarSheet.save()\n"
   ]
  }
 ],
 "metadata": {
  "interpreter": {
   "hash": "916dbcbb3f70747c44a77c7bcd40155683ae19c65e1c03b4aa3499c5328201f1"
  },
  "kernelspec": {
   "display_name": "Python 3.9.7 64-bit",
   "language": "python",
   "name": "python3"
  },
  "language_info": {
   "codemirror_mode": {
    "name": "ipython",
    "version": 3
   },
   "file_extension": ".py",
   "mimetype": "text/x-python",
   "name": "python",
   "nbconvert_exporter": "python",
   "pygments_lexer": "ipython3",
   "version": "3.8.12"
  },
  "orig_nbformat": 4
 },
 "nbformat": 4,
 "nbformat_minor": 2
}
